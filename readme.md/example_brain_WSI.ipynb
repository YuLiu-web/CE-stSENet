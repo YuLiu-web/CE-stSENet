{
  "cells": [
    {
      "cell_type": "markdown",
      "metadata": {
        "id": "view-in-github",
        "colab_type": "text"
      },
      "source": [
        "<a href=\"https://colab.research.google.com/github/YuLiu-web/CE-stSENet/blob/main/readme.md/example_brain_WSI.ipynb\" target=\"_parent\"><img src=\"https://colab.research.google.com/assets/colab-badge.svg\" alt=\"Open In Colab\"/></a>"
      ]
    },
    {
      "cell_type": "markdown",
      "metadata": {
        "id": "DJoVHc459Rci"
      },
      "source": [
        "# Brain WSI sample\n",
        "The notebook is an example of illumination calculation and correction on a sample of images."
      ]
    },
    {
      "cell_type": "markdown",
      "metadata": {
        "id": "VNpoRUOf9Rck"
      },
      "source": [
        "### Installing the PyBaSiC"
      ]
    },
    {
      "cell_type": "code",
      "execution_count": null,
      "metadata": {
        "id": "evvzV_rv9Rcl"
      },
      "outputs": [],
      "source": [
        "!git clone https://github.com/peng-lab/PyBaSiC.git\n",
        "import os\n",
        "os.chdir(os.getcwd()+'/PyBaSiC')\n",
        "!pip install -e ."
      ]
    },
    {
      "cell_type": "markdown",
      "source": [
        "### Importing the package"
      ],
      "metadata": {
        "id": "PDKePV8tCidv"
      }
    },
    {
      "cell_type": "code",
      "source": [
        "from matplotlib import pyplot as plt\n",
        "import pybasic"
      ],
      "metadata": {
        "id": "luO3DbQFCmx-"
      },
      "execution_count": null,
      "outputs": []
    },
    {
      "cell_type": "markdown",
      "metadata": {
        "id": "yUsGuaEI9Rcm"
      },
      "source": [
        "### Reading the input images"
      ]
    },
    {
      "cell_type": "code",
      "execution_count": null,
      "metadata": {
        "id": "iF9U7SB79Rcm"
      },
      "outputs": [],
      "source": [
        "wsi_path = 'ExampleData/WSI_brain/'\n",
        "WSI_Brain_images = pybasic.tools.load_data(wsi_path, '.tif', verbosity = True)"
      ]
    },
    {
      "cell_type": "markdown",
      "metadata": {
        "id": "DKS4j3P-9Rco"
      },
      "source": [
        "## Run PyBaSiC background calculator"
      ]
    },
    {
      "cell_type": "code",
      "execution_count": null,
      "metadata": {
        "id": "qU1UxxCl9Rco"
      },
      "outputs": [],
      "source": [
        "flatfield, darkfield = pybasic.basic(WSI_Brain_images, darkfield=True)"
      ]
    },
    {
      "cell_type": "markdown",
      "metadata": {
        "id": "ny5uarTw9Rcp"
      },
      "source": [
        "## Show output flatfield and darkfield components"
      ]
    },
    {
      "cell_type": "code",
      "execution_count": null,
      "metadata": {
        "id": "2TLQP4ub9Rcp"
      },
      "outputs": [],
      "source": [
        "plt.title('Flatfield')\n",
        "plt.imshow(flatfield)\n",
        "plt.colorbar()\n",
        "plt.show()\n",
        "plt.title('Darkfield')\n",
        "plt.imshow(darkfield)\n",
        "plt.colorbar()\n",
        "plt.show()"
      ]
    },
    {
      "cell_type": "markdown",
      "metadata": {
        "id": "PWG3h09P9Rcq"
      },
      "source": [
        "### Computing the Timelaps Drift"
      ]
    },
    {
      "cell_type": "code",
      "execution_count": null,
      "metadata": {
        "id": "mlgre0IM9Rcq"
      },
      "outputs": [],
      "source": [
        "baseflour = pybasic.background_timelapse(\n",
        "    images_list = WSI_Brain_images, \n",
        "    flatfield = flatfield, \n",
        "    darkfield = darkfield\n",
        ")"
      ]
    },
    {
      "cell_type": "code",
      "execution_count": null,
      "metadata": {
        "id": "MGJR2ojQ9Rcr"
      },
      "outputs": [],
      "source": [
        "plt.plot(baseflour)\n",
        "plt.ylabel(\"baseline drift\")\n",
        "plt.xlabel(\"image number\")\n",
        "plt.show()"
      ]
    },
    {
      "cell_type": "markdown",
      "metadata": {
        "id": "ew-fTyMM9Rcr"
      },
      "source": [
        "### Applying Background Correction"
      ]
    },
    {
      "cell_type": "code",
      "execution_count": null,
      "metadata": {
        "id": "0O6upKna9Rcr"
      },
      "outputs": [],
      "source": [
        "WSI_Brain_images_corrected = pybasic.correct_illumination(\n",
        "    images_list = WSI_Brain_images, \n",
        "    flatfield = flatfield, \n",
        "    darkfield = darkfield,\n",
        "    background_timelapse = baseflour\n",
        ")"
      ]
    },
    {
      "cell_type": "markdown",
      "metadata": {
        "id": "ARnduHvL9Rcs"
      },
      "source": [
        "### Comparison Between Corrected and Non-corrected Images\n",
        "\n",
        "We explore the background correction for the ith image (out of 63 total images)."
      ]
    },
    {
      "cell_type": "code",
      "execution_count": null,
      "metadata": {
        "id": "7T711n3N9Rcs"
      },
      "outputs": [],
      "source": [
        "i = 24\n",
        "plt.title('Uncorrected Image')\n",
        "plt.imshow(WSI_Brain_images[i])\n",
        "plt.colorbar()\n",
        "plt.show()\n",
        "plt.title('Corrected Image')\n",
        "plt.imshow(WSI_Brain_images_corrected[i])\n",
        "plt.colorbar()\n",
        "plt.show()"
      ]
    }
  ],
  "metadata": {
    "kernelspec": {
      "display_name": ".venv_pybasic",
      "language": "python",
      "name": ".venv_pybasic"
    },
    "language_info": {
      "codemirror_mode": {
        "name": "ipython",
        "version": 3
      },
      "file_extension": ".py",
      "mimetype": "text/x-python",
      "name": "python",
      "nbconvert_exporter": "python",
      "pygments_lexer": "ipython3",
      "version": "3.8.0"
    },
    "colab": {
      "name": "example_brain_WSI.ipynb",
      "provenance": [],
      "collapsed_sections": [],
      "include_colab_link": true
    }
  },
  "nbformat": 4,
  "nbformat_minor": 0
}